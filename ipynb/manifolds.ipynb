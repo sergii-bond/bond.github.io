{
 "cells": [
  {
   "cell_type": "markdown",
   "metadata": {
    "collapsed": false
   },
   "source": [
    "### Define imports"
   ]
  },
  {
   "cell_type": "code",
   "execution_count": 347,
   "metadata": {
    "collapsed": true
   },
   "outputs": [],
   "source": [
    "import numpy as np\n",
    "%matplotlib inline\n",
    "import matplotlib.pyplot as plt\n",
    "from mpl_toolkits.axes_grid1 import ImageGrid\n",
    "from matplotlib.offsetbox import (TextArea, DrawingArea, OffsetImage,\n",
    "                                  AnnotationBbox)\n",
    "plt.rcParams[\"figure.figsize\"] = (4, 4)\n",
    "from tensorflow.contrib.learn.python.learn.datasets.mnist import read_data_sets"
   ]
  },
  {
   "cell_type": "markdown",
   "metadata": {},
   "source": [
    "### Define plotting functions"
   ]
  },
  {
   "cell_type": "code",
   "execution_count": 336,
   "metadata": {
    "collapsed": true
   },
   "outputs": [],
   "source": [
    "def plim(img):\n",
    "    plt.imshow(img[:,:,::-1].astype(np.uint8), interpolation='none')\n",
    "\n",
    "def plim_g(img):\n",
    "    plt.imshow(img, cmap=\"gray\", interpolation='none')"
   ]
  },
  {
   "cell_type": "markdown",
   "metadata": {},
   "source": [
    "### Load MNIST dataset"
   ]
  },
  {
   "cell_type": "code",
   "execution_count": 337,
   "metadata": {
    "collapsed": false
   },
   "outputs": [
    {
     "name": "stdout",
     "output_type": "stream",
     "text": [
      "Extracting ./train-images-idx3-ubyte.gz\n",
      "Extracting ./train-labels-idx1-ubyte.gz\n",
      "Extracting ./t10k-images-idx3-ubyte.gz\n",
      "Extracting ./t10k-labels-idx1-ubyte.gz\n"
     ]
    }
   ],
   "source": [
    "d = read_data_sets(\"./\", one_hot=False)"
   ]
  },
  {
   "cell_type": "markdown",
   "metadata": {},
   "source": [
    "### Choose the image of a digit to work with"
   ]
  },
  {
   "cell_type": "code",
   "execution_count": 339,
   "metadata": {
    "collapsed": false
   },
   "outputs": [
    {
     "data": {
      "image/png": "[encoded data removed]",
      "text/plain": [
       "<matplotlib.figure.Figure at 0x7effceae6a90>"
      ]
     },
     "metadata": {},
     "output_type": "display_data"
    }
   ],
   "source": [
    "idx = 8\n",
    "img = np.reshape(d.train.images[idx], (28, 28))\n",
    "plim_g(img)"
   ]
  },
  {
   "cell_type": "markdown",
   "metadata": {},
   "source": [
    "It is not exactly the same 9 as in the book, but close enough"
   ]
  },
  {
   "cell_type": "markdown",
   "metadata": {},
   "source": [
    "### Translate vertically to a starting position"
   ]
  },
  {
   "cell_type": "code",
   "execution_count": 340,
   "metadata": {
    "collapsed": false
   },
   "outputs": [
    {
     "data": {
      "image/png": "[encoded data removed]",
      "text/plain": [
       "<matplotlib.figure.Figure at 0x7effcd4c2850>"
      ]
     },
     "metadata": {},
     "output_type": "display_data"
    }
   ],
   "source": [
    "r = np.zeros((28, 28))\n",
    "r[:28-6] = img[6:]\n",
    "plim_g(r)"
   ]
  },
  {
   "cell_type": "markdown",
   "metadata": {},
   "source": [
    "### Create a set of images X, obtained by a downward translation 1 pixel at a time\n",
    "Each row of X contains the coordinates of an image in some orthonormal basis"
   ]
  },
  {
   "cell_type": "code",
   "execution_count": 96,
   "metadata": {
    "collapsed": false
   },
   "outputs": [],
   "source": [
    "n = 20\n",
    "X = np.zeros((n, 784))\n",
    "X[0] = r.reshape(-1)\n",
    "\n",
    "for i in range(n - 1):\n",
    "    r[1:] = r[0:27]\n",
    "    r[0] = 0\n",
    "    X[i + 1] = r.reshape(-1)\n",
    "    "
   ]
  },
  {
   "cell_type": "markdown",
   "metadata": {},
   "source": [
    "### Display the resulting set"
   ]
  },
  {
   "cell_type": "code",
   "execution_count": 99,
   "metadata": {
    "collapsed": false
   },
   "outputs": [
    {
     "data": {
      "image/png": "[encoded data removed]",
      "text/plain": [
       "<matplotlib.figure.Figure at 0x7effcdf51f90>"
      ]
     },
     "metadata": {},
     "output_type": "display_data"
    }
   ],
   "source": [
    "fig = plt.figure(1, (10., 10.))\n",
    "k = np.ceil(np.sqrt(n)).astype(int)\n",
    "grid = ImageGrid(fig, 111,\n",
    "                 nrows_ncols=(k, k),\n",
    "                 axes_pad=0.1)\n",
    "\n",
    "for i in range(n):\n",
    "    grid[i].imshow(X[i].reshape(28, 28), cmap=\"gray\")"
   ]
  },
  {
   "cell_type": "markdown",
   "metadata": {},
   "source": [
    "### Use PCA to project points from X onto a 2D space\n",
    "The shape of X will change from [n, 784] to [n, 2]"
   ]
  },
  {
   "cell_type": "code",
   "execution_count": 273,
   "metadata": {
    "collapsed": false
   },
   "outputs": [],
   "source": [
    "# normalize data\n",
    "Xnorm = X - np.mean(X, axis=0)\n",
    "# Now we could calculate a sample covariance matrix as\n",
    "# Sx = np.dot(Xnorm.T, Xnorm) / (Xnorm.shape[0] - 1)\n",
    "# for unbiased estimate or ignore subtraction of 1 and simply do\n",
    "# Sx = np.dot(Xnorm.T, Xnorm) / Xnorm.shape[0]\n",
    "# The latter is easier from a computational point of view, \n",
    "# because we can use a fast SVD instead of a slow numpy eigenvalue decomposition np.linalg.eig\n",
    "\n",
    "U, S, V = np.linalg.svd(Xnorm)\n",
    "# returned V here is actually a V.T, \n",
    "# rows of V are eigenvectors of Xnorm.T * X\n"
   ]
  },
  {
   "cell_type": "code",
   "execution_count": 344,
   "metadata": {
    "collapsed": false
   },
   "outputs": [
    {
     "name": "stdout",
     "output_type": "stream",
     "text": [
      "('The first seven largest singular values', array([ 13.44979553,   9.24751861,   8.07277752,   7.88310738,\n",
      "         7.25618232,   7.00486526,   5.59828879]))\n",
      "('The first maximum singular value', 13.449795530222909)\n",
      "('The second maximum singular value', 9.2475186118727013)\n"
     ]
    }
   ],
   "source": [
    "print(\"The first seven largest singular values\", S[:7])\n",
    "# Two largest singular values are of interest\n",
    "print(\"The first maximum singular value\", S[0])\n",
    "print(\"The second maximum singular value\", S[1])"
   ]
  },
  {
   "cell_type": "code",
   "execution_count": 345,
   "metadata": {
    "collapsed": false
   },
   "outputs": [
    {
     "name": "stdout",
     "output_type": "stream",
     "text": [
      "(2, 784)\n"
     ]
    }
   ],
   "source": [
    "# keep only two eigenvectors corresponding to the two largest singular values\n",
    "v2 = V[[0, 1], :]\n",
    "print(v2.shape)"
   ]
  },
  {
   "cell_type": "code",
   "execution_count": 313,
   "metadata": {
    "collapsed": false
   },
   "outputs": [
    {
     "name": "stdout",
     "output_type": "stream",
     "text": [
      "(20, 2)\n"
     ]
    }
   ],
   "source": [
    "# Project normalized data onto a 2D space spanned by those two eigenvectors\n",
    "X2d = np.dot(Xnorm, v2.T)\n",
    "print(X2d.shape)"
   ]
  },
  {
   "cell_type": "code",
   "execution_count": 430,
   "metadata": {
    "collapsed": false
   },
   "outputs": [],
   "source": [
    "# approximate a derivative in one of the points (point number 7 is chosen)\n",
    "diff = (X[6] - X[8]) / 2\n",
    "img_diff = diff.reshape((28, 28))\n",
    "# project a derivative vector onto the 2D space\n",
    "diff2d = np.dot(diff, v2.T)"
   ]
  },
  {
   "cell_type": "markdown",
   "metadata": {},
   "source": [
    "### Plot the resulting manifold"
   ]
  },
  {
   "cell_type": "code",
   "execution_count": 434,
   "metadata": {
    "collapsed": false
   },
   "outputs": [
    {
     "data": {
      "image/png": "[encoded data removed]",
      "text/plain": [
       "<matplotlib.figure.Figure at 0x7effc2d60150>"
      ]
     },
     "metadata": {},
     "output_type": "display_data"
    }
   ],
   "source": [
    "fig, ax = plt.subplots(figsize=(10, 10))\n",
    "ax.plot(X2d[:, 0], X2d[:, 1], marker='.', markersize='12')\n",
    "ax.set_xlabel(\"e1\")\n",
    "ax.set_ylabel(\"e2\")\n",
    "ax.set_title(\"Manifold in 2D space\")\n",
    "for i in range(n):\n",
    "    ax.annotate('%s' % i, xy=(X2d[i, 0], X2d[i, 1]), textcoords='data')\n",
    "    \n",
    "for i, offset in zip([2, 4, 8, 12, 16], [(100, 20), (100, 40), (-10, 100), (-20, 100), (-100, -20)]):\n",
    "    im = OffsetImage(X[i, :].reshape((28, 28)), zoom=2, cmap=\"gray\")\n",
    "    im.image.axes = ax\n",
    "\n",
    "    ab = AnnotationBbox(im, (X2d[i, 0], X2d[i, 1]),\n",
    "                        xybox=offset,\n",
    "                        xycoords='data',\n",
    "                        boxcoords=\"offset points\",\n",
    "                        pad=0,\n",
    "                        arrowprops=dict(arrowstyle=\"->\"))\n",
    "\n",
    "    ax.add_artist(ab)\n",
    "\n",
    "# add the tangent vector \n",
    "ax.arrow(X2d[7, 0], X2d[7, 1], diff2d[0], diff2d[1], head_width=0.05, head_length=0.1, color='red')\n",
    "\n",
    "# add the derivative image\n",
    "if 1:\n",
    "    im = OffsetImage(img_diff, zoom=2, cmap=\"gray\")\n",
    "    im.image.axes = ax\n",
    "\n",
    "    ab = AnnotationBbox(im, (X2d[7, 0], X2d[7, 1]),\n",
    "                        xybox=diff2d * 120,\n",
    "                        xycoords='data',\n",
    "                        boxcoords=\"offset points\",\n",
    "                        pad=0)\n",
    "\n",
    "    ax.add_artist(ab)"
   ]
  }
 ],
 "metadata": {
  "kernelspec": {
   "display_name": "Python 2",
   "language": "python",
   "name": "python2"
  },
  "language_info": {
   "codemirror_mode": {
    "name": "ipython",
    "version": 2
   },
   "file_extension": ".py",
   "mimetype": "text/x-python",
   "name": "python",
   "nbconvert_exporter": "python",
   "pygments_lexer": "ipython2",
   "version": "2.7.13"
  }
 },
 "nbformat": 4,
 "nbformat_minor": 2
}
